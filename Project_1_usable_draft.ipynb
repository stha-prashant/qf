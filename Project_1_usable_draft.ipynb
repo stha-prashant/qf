{
 "cells": [
  {
   "cell_type": "markdown",
   "id": "763b83fd",
   "metadata": {},
   "source": [
    "Importing required libraries."
   ]
  },
  {
   "cell_type": "code",
   "execution_count": 111,
   "id": "fb496b9f",
   "metadata": {},
   "outputs": [],
   "source": [
    "import numpy as np\n",
    "import matplotlib.pyplot as plt"
   ]
  },
  {
   "cell_type": "markdown",
   "id": "21b1db8b",
   "metadata": {},
   "source": [
    "Reading data from file."
   ]
  },
  {
   "cell_type": "code",
   "execution_count": 112,
   "id": "f9238615",
   "metadata": {},
   "outputs": [
    {
     "name": "stdout",
     "output_type": "stream",
     "text": [
      "Baseline mean RSS: 282.8777177208458\n"
     ]
    }
   ],
   "source": [
    "traindata = np.loadtxt('./traindata.txt')\n",
    "\n",
    "X_train = traindata[:, :-1]\n",
    "Y_train = traindata[:, -1]\n",
    "\n",
    "baseline_rss = np.var(Y_train)\n",
    "print(f\"Baseline mean RSS: {baseline_rss}\")\n",
    "\n",
    "X_test = np.loadtxt('./testinputs.txt')"
   ]
  },
  {
   "cell_type": "markdown",
   "id": "3e83d4d5",
   "metadata": {},
   "source": [
    "Function to calculate the weight vector from given design matrix and actual output data. Also using L2 Regularization. "
   ]
  },
  {
   "cell_type": "code",
   "execution_count": 113,
   "id": "54c26969",
   "metadata": {},
   "outputs": [],
   "source": [
    "def solve(Z, y, lam = 0.0):\n",
    "    d = Z.shape[0]\n",
    "\n",
    "    return np.linalg.solve(Z @ Z.T + lam * np.eye(d), Z @ y)"
   ]
  },
  {
   "cell_type": "markdown",
   "id": "f0352d84",
   "metadata": {},
   "source": [
    "Function to calculate Residual Sum of Squares (RSS) given weight vector, design matrix, and actual output data. "
   ]
  },
  {
   "cell_type": "code",
   "execution_count": 114,
   "id": "c8f66312",
   "metadata": {},
   "outputs": [],
   "source": [
    "def RSS(W, Z, y):\n",
    "    return np.mean(((Z.T @ W) - y) ** 2)"
   ]
  },
  {
   "cell_type": "markdown",
   "id": "19fa8ae7",
   "metadata": {},
   "source": [
    "Calculating the design matrix for given polynomial order. From experiments, we found that not having interaction items gave better results. Also, we found that including sqrt(x) as a feature helped. "
   ]
  },
  {
   "cell_type": "code",
   "execution_count": 115,
   "id": "05d91ebf",
   "metadata": {},
   "outputs": [],
   "source": [
    "def design_matrix(x, p): # version without interaction items.  \n",
    "    n, d = x.shape\n",
    "    features = [np.ones((n, 1))]  # for bias\n",
    "    \n",
    "    for j in range(d):           \n",
    "        col = x[:, j]\n",
    "        feat_sqrt = (np.sqrt(col)).reshape(-1, 1) # sqrt as a feature\n",
    "        features.append(feat_sqrt)\n",
    "        for degree in range(1, p+1):    \n",
    "            feat_pol = (col ** degree).reshape(-1, 1) # polynomial features\n",
    "            features.append(feat_pol)\n",
    "\n",
    "    return np.hstack(features)"
   ]
  },
  {
   "cell_type": "markdown",
   "id": "fb0f269a",
   "metadata": {},
   "source": [
    "K-fold Cross Validation code."
   ]
  },
  {
   "cell_type": "code",
   "execution_count": 116,
   "id": "a4592175",
   "metadata": {},
   "outputs": [],
   "source": [
    "def kfold_cv(x, y, p, K, lam = 0.0):\n",
    "    Z  = design_matrix(x, p).T \n",
    "\n",
    "    N = y.shape[0]\n",
    "    test_Rs = []\n",
    "    train_Rs = []\n",
    "    \n",
    "    for fold in range(K):\n",
    "        start = int(fold / K * N)\n",
    "        end = int((fold + 1) / K * N)\n",
    "\n",
    "        # boolean mask\n",
    "        mask = np.ones(N, dtype=bool)\n",
    "        mask[start:end] = False # test indices set to False\n",
    "\n",
    "        # split as per the mask\n",
    "        train_x, train_y = Z[:, mask], y[mask, :]\n",
    "        test_x,  test_y  = Z[:, ~mask], y[~mask, :]\n",
    "\n",
    "        # fit on train\n",
    "        W = solve(train_x, train_y, lam)\n",
    "\n",
    "        # compute residuals\n",
    "        train_R = RSS(W, train_x, train_y)\n",
    "        test_R = RSS(W, test_x, test_y)\n",
    "\n",
    "        test_Rs.append(test_R)\n",
    "        train_Rs.append(train_R)\n",
    "        \n",
    "    return np.sum(train_Rs) / len(train_Rs), np.sum(test_Rs) / len(test_Rs)"
   ]
  },
  {
   "cell_type": "markdown",
   "id": "d1a5f2c5",
   "metadata": {},
   "source": [
    "Doing cross-validation on different orders of polynomial. We found that K = 690 and lambda = 100 gave the best results. Also, going beyond order of 8 started causing weird behaviors, presumably because of numerical instabilities. The K = 690 basically means that we are doing Leave-one-out Cross Validation, which was computationally doable in our case."
   ]
  },
  {
   "cell_type": "code",
   "execution_count": 117,
   "id": "650f9008",
   "metadata": {},
   "outputs": [],
   "source": [
    "test_cvs = []\n",
    "train_cvs = []\n",
    "order_range = 11 \n",
    "\n",
    "for order in range(1, order_range):\n",
    "    train_cv, test_cv = kfold_cv(X_train, Y_train.reshape(-1, 1), p = order, K = 690, lam = 100)\n",
    "\n",
    "    train_cvs.append(train_cv)\n",
    "    test_cvs.append(test_cv)"
   ]
  },
  {
   "cell_type": "markdown",
   "id": "4b051add",
   "metadata": {},
   "source": [
    "Plotting average validation errors and average training errors from k-fold Cross Validation of each basis expansion ."
   ]
  },
  {
   "cell_type": "code",
   "execution_count": 118,
   "id": "e85bdf8d",
   "metadata": {},
   "outputs": [
    {
     "name": "stdout",
     "output_type": "stream",
     "text": [
      "[np.float64(46.487314962895155), np.float64(43.37116940775294), np.float64(40.84612415676031), np.float64(37.58005695677805), np.float64(34.70926287051113), np.float64(33.38622682517554), np.float64(31.242855281337256), np.float64(29.884212806194874), np.float64(31.04098657704731), np.float64(28.8308661576515)]\n",
      "[np.float64(46.981778632229755), np.float64(44.93180557998208), np.float64(42.92660952158656), np.float64(40.408742458756585), np.float64(37.12320243765725), np.float64(36.45728622224767), np.float64(34.68739329449103), np.float64(33.42420485675323), np.float64(33.881094774466206), np.float64(35.10980028390671)]\n"
     ]
    },
    {
     "data": {
      "image/png": "[encoded data removed]",
      "text/plain": [
       "<Figure size 640x480 with 1 Axes>"
      ]
     },
     "metadata": {},
     "output_type": "display_data"
    }
   ],
   "source": [
    "#fig, (ax1, ax2) = plt.subplots(1, 2, figsize = (10, 4))\n",
    "\n",
    "plt.plot([i for i in range(1, order_range)], train_cvs, label = \"Train Error\")\n",
    "print(train_cvs)\n",
    "plt.plot([i for i in range(1, order_range)], test_cvs, label = \"Test Error\", color = 'red')\n",
    "print(test_cvs)\n",
    "plt.legend()\n",
    "\n",
    "plt.show()"
   ]
  },
  {
   "cell_type": "markdown",
   "id": "4d438782",
   "metadata": {},
   "source": [
    "Fitting on the entire dataset."
   ]
  },
  {
   "cell_type": "code",
   "execution_count": 119,
   "id": "0389c8e8",
   "metadata": {},
   "outputs": [
    {
     "data": {
      "text/plain": [
       "('Mean SSE: 29.88738812889099',\n",
       " 'The model reduces error by 89.43452019844668 % compared to baseline.')"
      ]
     },
     "execution_count": 119,
     "metadata": {},
     "output_type": "execute_result"
    }
   ],
   "source": [
    "Z_full_train = design_matrix(X_train, 8).T\n",
    "\n",
    "W_final = solve(Z_full_train, Y_train, 100)\n",
    "\n",
    "error = RSS(W_final, Z_full_train, Y_train)\n",
    "improvement = (baseline_rss - error) / baseline_rss\n",
    "\n",
    "f\"Mean SSE: {error}\", f\"The model reduces error by {improvement * 100} % compared to baseline.\""
   ]
  },
  {
   "cell_type": "markdown",
   "id": "81987907",
   "metadata": {},
   "source": [
    "Finally, predicting the outputs of the given test set. "
   ]
  },
  {
   "cell_type": "code",
   "execution_count": 120,
   "id": "ceb4a395",
   "metadata": {},
   "outputs": [
    {
     "data": {
      "text/plain": [
       "array([70.33754323, 39.29826165, 45.47524086, 51.60108036, 48.88570505,\n",
       "       40.8106514 , 51.37768028, 42.01882442, 38.64728457, 48.76167956,\n",
       "       44.26143128, 50.76768615, 52.84730768, 58.00253907, 58.68471432,\n",
       "       63.83617548, 67.77711667, 69.25666391, 72.59755234, 19.22495393,\n",
       "       24.0508279 , 21.67694719, 18.73209616, 33.49371785, 21.59648749,\n",
       "       24.04735748, 26.61605323, 27.36824384, 26.14373356, 25.02635089,\n",
       "       32.65312932, 32.20525092, 29.94905781, 38.85765152, 33.40944486,\n",
       "       32.81043284, 43.00403927, 29.15397832, 62.86910455, 48.33396376,\n",
       "       56.77801953, 12.89449666, 28.96552227, 20.16995477, 29.31113535,\n",
       "       45.76111759, 47.38057642, 42.53889041, 39.73387759, 33.54172767,\n",
       "       53.44099216, 39.3816106 , 17.99014544, 63.46945547, 24.34472445,\n",
       "       24.13193908, 32.24778876, 25.89091356, 31.88260279,  9.49510322,\n",
       "       22.38076928, 29.61717806, 31.25109605, 22.38904499, 25.14266158,\n",
       "       31.50831907, 30.83711488, 42.97466863, 22.52761337, 28.93546952,\n",
       "        4.84316904, 34.79842912, 43.94115745, 40.97987735, 10.77876174,\n",
       "       43.11443329, 36.62709323, 12.87379999, 23.87461566, 43.21843417,\n",
       "        9.59860958, 14.03517075, 61.40434061, 30.20146173, 50.50601441,\n",
       "       32.88865232, 43.38625681, 27.92788028, 18.80874525,  9.94327662,\n",
       "       30.71140158, 30.89216745, 35.37192473, 37.57681827, 34.1846062 ,\n",
       "       37.53132001, 47.45048708, 52.79887295, 31.39737523, 30.56315795,\n",
       "       35.949294  , 34.14573038, 44.61233403])"
      ]
     },
     "execution_count": 120,
     "metadata": {},
     "output_type": "execute_result"
    }
   ],
   "source": [
    "Z_test = design_matrix(X_test, 8)\n",
    "\n",
    "y_test_predicted = Z_test @ W_final\n",
    "\n",
    "y_test_predicted"
   ]
  }
 ],
 "metadata": {
  "kernelspec": {
   "display_name": "Python 3",
   "language": "python",
   "name": "python3"
  },
  "language_info": {
   "codemirror_mode": {
    "name": "ipython",
    "version": 3
   },
   "file_extension": ".py",
   "mimetype": "text/x-python",
   "name": "python",
   "nbconvert_exporter": "python",
   "pygments_lexer": "ipython3",
   "version": "3.9.6"
  }
 },
 "nbformat": 4,
 "nbformat_minor": 5
}
