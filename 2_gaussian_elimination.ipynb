{
 "cells": [
  {
   "cell_type": "code",
   "execution_count": 81,
   "id": "ec1dbba8-ac72-452e-8a96-b75071e3712f",
   "metadata": {},
   "outputs": [],
   "source": [
    "import numpy as np\n",
    "\n",
    "def reduceToUpper(A, b):\n",
    "    # A is square nxn matrx\n",
    "    # b is nx1 vector\n",
    "    assert len(A.shape) == len(b.shape) == 2\n",
    "    assert A.shape[0] == A.shape[1]\n",
    "    assert b.shape[1] == 1\n",
    "    A = A.astype(np.float64)\n",
    "    b = b.astype(np.float64)\n",
    "    \n",
    "    N = A.shape[0]\n",
    "    for i in range(N-1):\n",
    "        for j in range(i+1, N):\n",
    "            # partial pivoting\n",
    "            pivot = np.argmax(np.abs(A[i:, i]))\n",
    "            # if pivot!= 0:\n",
    "            #     print(\"swapping\")\n",
    "            temp = A[i, :].copy()\n",
    "            A[i, :] = A[i+pivot, :]\n",
    "            A[i+pivot, :] = temp\n",
    "            \n",
    "            temp = b[i, 0].copy()\n",
    "            b[i, 0] = b[i+pivot, 0]\n",
    "            b[i+pivot, 0] = temp\n",
    "            \n",
    "            coeff = -A[j, i]/A[i, i]\n",
    "            A[j, :] = A[j, :] + coeff*A[i, :]\n",
    "            b[j, 0] = b[j, 0] + coeff*b[i, 0]\n",
    "            # print(A)\n",
    "            # print(b)\n",
    "    return A, b\n"
   ]
  },
  {
   "cell_type": "code",
   "execution_count": 82,
   "id": "2d7e8904-fac7-4fd5-8f15-e1a111282254",
   "metadata": {},
   "outputs": [],
   "source": [
    "def backsubstitution(A, b):\n",
    "    assert b.shape[1] == 1\n",
    "    assert len(A.shape) == 2\n",
    "    assert A.shape[1] == b.shape[0]\n",
    "    \n",
    "    #A: upper-traingular matrix\n",
    "    #b: column vector\n",
    "    A = A.astype(np.float64)\n",
    "    b = b.astype(np.float64)\n",
    "    \n",
    "    N = b.shape[0]\n",
    "    x = np.zeros((N, 1))\n",
    "    \n",
    "    for i in range(N-1, -1, -1):\n",
    "        sum = 0\n",
    "        for j in range(i, N):\n",
    "            sum += A[i, j]*x[j, 0]\n",
    "        # sum = A[i, :]*x[i:]\n",
    "        x[i, 0] = (b[i, 0] - sum)/A[i, i]\n",
    "          \n",
    "    return x"
   ]
  },
  {
   "cell_type": "code",
   "execution_count": 83,
   "id": "b5a39c8c-2504-40b7-9dad-da8bf8520512",
   "metadata": {},
   "outputs": [],
   "source": [
    "def solve(A,b):\n",
    "    A, b = reduceToUpper(A,b)\n",
    "    return backsubstitution(A,b)"
   ]
  },
  {
   "cell_type": "code",
   "execution_count": null,
   "id": "5704a8d4-1600-4152-ae89-b4f0f985ccbe",
   "metadata": {},
   "outputs": [],
   "source": [
    "import time\n",
    "time_taken = {}\n",
    "for size in [10, 100, 1000, 10000]:\n",
    "    A = np.random.randn(size, size)\n",
    "    b = np.random.randn(size, 1)\n",
    "    start = time.time()\n",
    "    solution = solve(A,b)\n",
    "    end = time.time()\n",
    "    time_taken[size] = end-start\n",
    "\n",
    "    \n",
    "    "
   ]
  },
  {
   "cell_type": "code",
   "execution_count": null,
   "id": "3fd137c9-fcdf-4604-a874-8935ce3ca1f3",
   "metadata": {},
   "outputs": [],
   "source": [
    "import numpy as np\n",
    "import matplotlib.pyplot as plt\n",
    "\n",
    "# Suppose you already have time_taken filled\n",
    "# Example: time_taken = {20:0.001, 50:0.004, 100:0.02, 500:0.5}\n",
    "\n",
    "sizes = np.array(list(time_taken.keys()))\n",
    "times = np.array(list(time_taken.values()))\n",
    "\n",
    "plt.figure(figsize=(6,4))\n",
    "\n",
    "# x-axis as log(size), y as time in seconds\n",
    "plt.plot(np.log(sizes), times, marker='o', label=\"time (sec)\")\n",
    "\n",
    "# If you prefer ms, just multiply times by 1000\n",
    "# plt.plot(np.log(sizes), times*1000, marker='o', label=\"time (ms)\")\n",
    "\n",
    "plt.xlabel(\"log(matrix size)\")\n",
    "plt.ylabel(\"Computation time (seconds)\")\n",
    "plt.title(\"Solve(A, b) timing vs log(size)\")\n",
    "plt.grid(True)\n",
    "plt.legend()\n",
    "plt.show()"
   ]
  },
  {
   "cell_type": "code",
   "execution_count": 69,
   "id": "9979c241-e3e1-4b5d-b5a4-82309ead714a",
   "metadata": {},
   "outputs": [],
   "source": [
    "A = np.array([[2, 1, 1],\n",
    "              [1, 1, 2],\n",
    "              [1, 1, 3]])\n",
    "b = np.array([[2], [3], [6]])"
   ]
  },
  {
   "cell_type": "code",
   "execution_count": 70,
   "id": "b8ed2655-a170-4b5f-bfb0-29e0c7fd4884",
   "metadata": {},
   "outputs": [
    {
     "data": {
      "text/plain": [
       "array([[2. , 1. , 1. ],\n",
       "       [0. , 0.5, 1.5],\n",
       "       [0. , 0. , 1. ]])"
      ]
     },
     "execution_count": 70,
     "metadata": {},
     "output_type": "execute_result"
    }
   ],
   "source": [
    "reduceToUpper(A, b)"
   ]
  },
  {
   "cell_type": "code",
   "execution_count": 71,
   "id": "12d7a50f-72b8-415d-9dab-895276cf0812",
   "metadata": {},
   "outputs": [
    {
     "data": {
      "text/plain": [
       "array([[ 12. ,  -8. ,   6. ,  10. ],\n",
       "       [  0. , -11. ,   7.5,   0.5],\n",
       "       [  0. ,   0. ,   4. ,  23. ],\n",
       "       [  0. ,   0. ,   0. ,  -3. ]])"
      ]
     },
     "execution_count": 71,
     "metadata": {},
     "output_type": "execute_result"
    }
   ],
   "source": [
    "A = np.array([[3, -13,  9,  3],\n",
    "              [-6,  4,  1, 18],\n",
    "              [6, -2,  2,  4],\n",
    "              [12, -8,  6, 10]])\n",
    "\n",
    "b = np.array([-19, -34, 16, 26]).reshape(-1, 1)\n",
    "reduceToUpper(A,b)"
   ]
  },
  {
   "cell_type": "code",
   "execution_count": 72,
   "id": "6dc03e23-85f8-4ea7-9305-11f3358a609e",
   "metadata": {},
   "outputs": [
    {
     "data": {
      "text/plain": [
       "array([[ 5.00000000e+01,  2.00000000e+00,  3.00000000e+00,\n",
       "         1.00000000e+02],\n",
       "       [ 0.00000000e+00,  9.99600000e-01,  9.99400000e-01,\n",
       "         1.98000000e+00],\n",
       "       [ 0.00000000e+00,  0.00000000e+00, -3.98159264e-02,\n",
       "        -5.81232893e+00],\n",
       "       [ 0.00000000e+00,  0.00000000e+00, -3.46944695e-18,\n",
       "         1.00100000e+03]])"
      ]
     },
     "execution_count": 72,
     "metadata": {},
     "output_type": "execute_result"
    }
   ],
   "source": [
    "A = np.array([[1,      0,    0,   1000],\n",
    "              [50,     2,    3,    100],\n",
    "              [2,      1,    1,  1e-2],\n",
    "              [1e-2,   1,    1,      2]])\n",
    "\n",
    "b = np.array([1, 1, 1, 1]).reshape(-1,1)\n",
    "reduceToUpper(A,b)"
   ]
  },
  {
   "cell_type": "code",
   "execution_count": null,
   "id": "aeff1b0c-bb3c-4408-9e34-9985bf348610",
   "metadata": {},
   "outputs": [],
   "source": []
  }
 ],
 "metadata": {
  "kernelspec": {
   "display_name": "Python 3 (ipykernel)",
   "language": "python",
   "name": "python3"
  },
  "language_info": {
   "codemirror_mode": {
    "name": "ipython",
    "version": 3
   },
   "file_extension": ".py",
   "mimetype": "text/x-python",
   "name": "python",
   "nbconvert_exporter": "python",
   "pygments_lexer": "ipython3",
   "version": "3.10.9"
  }
 },
 "nbformat": 4,
 "nbformat_minor": 5
}
