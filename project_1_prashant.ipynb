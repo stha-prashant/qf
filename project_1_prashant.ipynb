{
 "cells": [
  {
   "cell_type": "markdown",
   "id": "763b83fd",
   "metadata": {},
   "source": [
    "Importing required libraries."
   ]
  },
  {
   "cell_type": "code",
   "execution_count": 876,
   "id": "fb496b9f",
   "metadata": {},
   "outputs": [],
   "source": [
    "import numpy as np\n",
    "import matplotlib.pyplot as plt\n",
    "from itertools import combinations_with_replacement"
   ]
  },
  {
   "cell_type": "markdown",
   "id": "21b1db8b",
   "metadata": {},
   "source": [
    "Reading data from file."
   ]
  },
  {
   "cell_type": "code",
   "execution_count": 877,
   "id": "f9238615",
   "metadata": {},
   "outputs": [],
   "source": [
    "traindata = np.loadtxt('./traindata.txt')\n",
    "X_train = traindata[:, :-1]\n",
    "np.random.shuffle(X_train)\n",
    "Y_train = traindata[:, -1]\n",
    "np.random.shuffle(Y_train)\n",
    "\n",
    "X_test = np.loadtxt('./testinputs.txt')"
   ]
  },
  {
   "cell_type": "markdown",
   "id": "3e83d4d5",
   "metadata": {},
   "source": [
    "Function to calculate the weight vector from given design matrix and actual output data. "
   ]
  },
  {
   "cell_type": "code",
   "execution_count": 878,
   "id": "54c26969",
   "metadata": {},
   "outputs": [],
   "source": [
    "def solve(Z, y):\n",
    "    return np.linalg.solve(Z @ Z.T, Z @ y)"
   ]
  },
  {
   "cell_type": "markdown",
   "id": "f0352d84",
   "metadata": {},
   "source": [
    "Function to calculate Residual Sum of Squares (RSS) given weight vector, design matrix, and actual output data. "
   ]
  },
  {
   "cell_type": "code",
   "execution_count": 879,
   "id": "c8f66312",
   "metadata": {},
   "outputs": [],
   "source": [
    "def RSS(W, Z, y):\n",
    "    return np.mean(((Z.T @ W) - y) ** 2)"
   ]
  },
  {
   "cell_type": "markdown",
   "id": "19fa8ae7",
   "metadata": {},
   "source": [
    "Calculating the design matrix for given polynomial order. This includes interaction items too because of the clever use of \"combinations_with_replacement\". "
   ]
  },
  {
   "cell_type": "code",
   "execution_count": 880,
   "id": "05d91ebf",
   "metadata": {},
   "outputs": [],
   "source": [
    "def poly_expand(x, p):\n",
    "    n, d = x.shape\n",
    "    features = [np.ones((n, 1))]\n",
    "    \n",
    "    for degree in range(1, p+1):\n",
    "        for combination in combinations_with_replacement(range(d), degree):\n",
    "            feat = np.prod(x[:, combination], axis = 1).reshape(-1, 1)\n",
    "            features.append(feat)\n",
    "\n",
    "    return np.hstack(features)"
   ]
  },
  {
   "cell_type": "markdown",
   "id": "fb0f269a",
   "metadata": {},
   "source": [
    "K-fold Cross Validation code."
   ]
  },
  {
   "cell_type": "code",
   "execution_count": 881,
   "id": "a4592175",
   "metadata": {},
   "outputs": [],
   "source": [
    "def kfold_cv(x, y, p, K):\n",
    "    Z  = poly_expand(x, p).T \n",
    "    N = y.shape[0]\n",
    "    test_Rs = []\n",
    "    train_Rs = []\n",
    "    \n",
    "    for fold in range(K):\n",
    "        start = int(fold / K * N)\n",
    "        end = int((fold + 1) / K * N)\n",
    "\n",
    "        # boolean mask\n",
    "        mask = np.ones(N, dtype=bool)\n",
    "        mask[start:end] = False # test indices set to False\n",
    "\n",
    "        # split\n",
    "        train_x, train_y = Z[:, mask], y[mask, :]\n",
    "        test_x,  test_y  = Z[:, ~mask], y[~mask, :]\n",
    "\n",
    "        # fit on train\n",
    "        W = solve(train_x, train_y)\n",
    "\n",
    "        # compute residuals\n",
    "        train_R = RSS(W, train_x, train_y)\n",
    "        test_R = RSS(W, test_x, test_y)\n",
    "\n",
    "        test_Rs.append(test_R)\n",
    "        train_Rs.append(train_R)\n",
    "        \n",
    "    return np.sum(train_Rs) / len(train_Rs), np.sum(test_Rs) / len(test_Rs)"
   ]
  },
  {
   "cell_type": "markdown",
   "id": "d1a5f2c5",
   "metadata": {},
   "source": [
    "Do cross-validation on different orders of polynomial. "
   ]
  },
  {
   "cell_type": "code",
   "execution_count": 882,
   "id": "650f9008",
   "metadata": {},
   "outputs": [],
   "source": [
    "test_cvs = []\n",
    "train_cvs = []\n",
    "order_range = 5 \n",
    "\n",
    "for order in range(1, order_range):\n",
    "    train_cv, test_cv = kfold_cv(X_train, Y_train.reshape(-1, 1), p = order, K = 5)\n",
    "\n",
    "    train_cvs.append(train_cv)\n",
    "    test_cvs.append(test_cv)"
   ]
  },
  {
   "cell_type": "markdown",
   "id": "4b051add",
   "metadata": {},
   "source": [
    "Plotting average validation errors from k-fold Cross Validation of each basis expansion i.e. for all orders of polynomials in the given range. "
   ]
  },
  {
   "cell_type": "code",
   "execution_count": 883,
   "id": "e85bdf8d",
   "metadata": {},
   "outputs": [
    {
     "name": "stdout",
     "output_type": "stream",
     "text": [
      "[np.float64(280.78908039307703), np.float64(266.59438998642656), np.float64(218.96311611318646), np.float64(107.20958359486062)]\n",
      "[np.float64(289.97430068381493), np.float64(310.9654286846943), np.float64(470.4304054504135), np.float64(2053705.9539537702)]\n"
     ]
    },
    {
     "data": {
      "image/png": "[encoded data removed]",
      "text/plain": [
       "<Figure size 1000x400 with 2 Axes>"
      ]
     },
     "metadata": {},
     "output_type": "display_data"
    }
   ],
   "source": [
    "fig, (ax1, ax2) = plt.subplots(1, 2, figsize = (10, 4))\n",
    "\n",
    "ax1.plot([i for i in range(1, order_range)], train_cvs, label = \"train_error\")\n",
    "print(train_cvs)\n",
    "ax2.plot([i for i in range(1, order_range)], test_cvs, label = \"test_error\")\n",
    "print(test_cvs)\n",
    "plt.legend()\n",
    "\n",
    "plt.show()"
   ]
  }
 ],
 "metadata": {
  "kernelspec": {
   "display_name": "Python 3",
   "language": "python",
   "name": "python3"
  },
  "language_info": {
   "codemirror_mode": {
    "name": "ipython",
    "version": 3
   },
   "file_extension": ".py",
   "mimetype": "text/x-python",
   "name": "python",
   "nbconvert_exporter": "python",
   "pygments_lexer": "ipython3",
   "version": "3.9.6"
  }
 },
 "nbformat": 4,
 "nbformat_minor": 5
}
