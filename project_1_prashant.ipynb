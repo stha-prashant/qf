{
 "cells": [
  {
   "cell_type": "code",
   "execution_count": 2,
   "id": "fb496b9f",
   "metadata": {},
   "outputs": [],
   "source": [
    "import numpy as np\n",
    "traindata = np.loadtxt('./traindata.txt')\n",
    "X = traindata[:, :-1]\n",
    "Y = traindata[:, -1]\n",
    "Xtest = np.loadtxt('./testinputs.txt')\n"
   ]
  },
  {
   "cell_type": "code",
   "execution_count": 3,
   "id": "54c26969",
   "metadata": {},
   "outputs": [],
   "source": [
    "import numpy as np\n",
    "def basisLS(Z, y):\n",
    "    assert len(Z.shape) == 2 # z = d x n\n",
    "    assert Z.shape[1] == y.shape[0] # y = n x 1\n",
    "    # W = np.linalg.pinv(Z@Z.T==) @ Z @ y\n",
    "    W = np.linalg.solve(Z@Z.T, Z@y) # W = d x 1\n",
    "\n",
    "    R = np.sum((Z.T@W-y)**2) # W = d x 1\n",
    "    return W, R\n"
   ]
  },
  {
   "cell_type": "code",
   "execution_count": 4,
   "id": "05d91ebf",
   "metadata": {},
   "outputs": [],
   "source": [
    "from itertools import combinations_with_replacement\n",
    "def poly_expand(x, p):\n",
    "    #  x = n x d\n",
    "    # p = order of polynomial\n",
    "    n, d = x.shape\n",
    "    features = [np.ones((n, 1))]\n",
    "    for degree in range(1, p+1):\n",
    "        for combination in combinations_with_replacement(range(d), degree):\n",
    "            feat = np.prod(x[:, combination], axis=1).reshape(-1, 1)\n",
    "            features.append(feat)\n",
    "    return np.hstack(features)"
   ]
  },
  {
   "cell_type": "code",
   "execution_count": 5,
   "id": "a4592175",
   "metadata": {},
   "outputs": [],
   "source": [
    "def kfold_cv(x, y, p, K):\n",
    "    # p = polynomial order\n",
    "    # K = number of folds\n",
    "\n",
    "    Z  = poly_expand(x, p).T # Z = d x n\n",
    "\n",
    "    # make Z = d x n x p\n",
    "    print(x.shape, y.shape)\n",
    "    print(Z.shape)\n",
    "    # print(Z.shape)\n",
    "    # print(y.shape)\n",
    "    N = y.shape[0]\n",
    "    test_Rs = []\n",
    "    train_Rs = []\n",
    "    \n",
    "    for fold in range(K):\n",
    "        start = int(fold / K * N)\n",
    "        end   = int((fold + 1) / K * N)\n",
    "\n",
    "        # boolean mask\n",
    "        mask = np.ones(N, dtype=bool)\n",
    "        mask[start:end] = False   # test indices set to False\n",
    "\n",
    "        # split\n",
    "        train_x, train_y = Z[:, mask], y[mask, :]\n",
    "        test_x,  test_y  = Z[:, ~mask], y[~mask, :]\n",
    "\n",
    "        # fit on train\n",
    "        W, _ = basisLS(train_x, train_y)\n",
    "\n",
    "        # compute residuals\n",
    "        train_R = np.sum((train_x.T @ W - train_y) ** 2)\n",
    "        test_R  = np.sum((test_x.T @ W - test_y) ** 2)\n",
    "        test_Rs.append(test_R)\n",
    "        train_Rs.append(train_R)\n",
    "        \n",
    "    return np.sum(train_Rs)/len(train_Rs), np.sum(test_Rs)/len(test_Rs)\n",
    "    \n",
    "    \n",
    "    "
   ]
  },
  {
   "cell_type": "code",
   "execution_count": 6,
   "id": "7a46d6fa",
   "metadata": {},
   "outputs": [
    {
     "name": "stdout",
     "output_type": "stream",
     "text": [
      "(926, 8) (926,)\n"
     ]
    }
   ],
   "source": [
    "print(X.shape, Y.shape)"
   ]
  },
  {
   "cell_type": "code",
   "execution_count": 9,
   "id": "650f9008",
   "metadata": {},
   "outputs": [
    {
     "name": "stdout",
     "output_type": "stream",
     "text": [
      "(926, 8) (926, 1)\n",
      "(9, 926)\n",
      "(926, 8) (926, 1)\n",
      "(45, 926)\n",
      "(926, 8) (926, 1)\n",
      "(165, 926)\n",
      "(926, 8) (926, 1)\n",
      "(495, 926)\n",
      "(926, 8) (926, 1)\n",
      "(1287, 926)\n",
      "(926, 8) (926, 1)\n",
      "(3003, 926)\n",
      "(926, 8) (926, 1)\n",
      "(6435, 926)\n",
      "(926, 8) (926, 1)\n",
      "(12870, 926)\n"
     ]
    }
   ],
   "source": [
    "test_cvs = []\n",
    "train_cvs = []\n",
    "order_range = 9\n",
    "for order in range(1, order_range):\n",
    "    train_cv, test_cv = kfold_cv(X, Y.reshape(-1, 1), p=order, K=2)\n",
    "    train_cvs.append(train_cv)\n",
    "    test_cvs.append(test_cv)\n"
   ]
  },
  {
   "cell_type": "code",
   "execution_count": 10,
   "id": "e85bdf8d",
   "metadata": {},
   "outputs": [
    {
     "data": {
      "image/png": "[encoded data removed]",
      "text/plain": [
       "<Figure size 640x480 with 1 Axes>"
      ]
     },
     "metadata": {},
     "output_type": "display_data"
    },
    {
     "name": "stdout",
     "output_type": "stream",
     "text": [
      "[46451.21167509777, 18775.38358265922, 5554.742135348122, 1986.6119703505224, 1214.9365933267422, 2720.087735986584, 6026.63574614275, 1574.3792782235569]\n"
     ]
    }
   ],
   "source": [
    "import matplotlib.pyplot as plt\n",
    "plt.plot([i for i in range(1, order_range)], train_cvs, label=\"train_error\")\n",
    "# plt.plot([i for i in range(1, order_range)], test_cvs, label=\"test_error\")\n",
    "plt.legend()\n",
    "plt.show()\n",
    "\n",
    "print(train_cvs)"
   ]
  },
  {
   "cell_type": "code",
   "execution_count": null,
   "id": "52dbbb6e",
   "metadata": {},
   "outputs": [],
   "source": []
  },
  {
   "cell_type": "code",
   "execution_count": null,
   "id": "5464767e",
   "metadata": {},
   "outputs": [],
   "source": []
  }
 ],
 "metadata": {
  "kernelspec": {
   "display_name": "base",
   "language": "python",
   "name": "python3"
  },
  "language_info": {
   "codemirror_mode": {
    "name": "ipython",
    "version": 3
   },
   "file_extension": ".py",
   "mimetype": "text/x-python",
   "name": "python",
   "nbconvert_exporter": "python",
   "pygments_lexer": "ipython3",
   "version": "3.10.9"
  }
 },
 "nbformat": 4,
 "nbformat_minor": 5
}
