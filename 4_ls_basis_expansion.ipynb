{
 "cells": [
  {
   "cell_type": "code",
   "execution_count": 24,
   "id": "c8c58daf-aea6-485f-8074-d52d3f1c0925",
   "metadata": {},
   "outputs": [],
   "source": [
    "import numpy as np\n",
    "def basisLS(Z, y):\n",
    "    assert len(Z.shape) == 2 # z = d x n\n",
    "    assert Z.shape[1] == y.shape[0] # y = n x 1\n",
    "    W = np.linalg.inv(Z@Z.T) @ Z @ y\n",
    "    R = np.sum((Z.T@W-y)**2) # W = d x 1\n",
    "    return W, R"
   ]
  },
  {
   "cell_type": "code",
   "execution_count": 25,
   "id": "3ea2e3f1-2cd8-429d-ac5e-40f94574a408",
   "metadata": {},
   "outputs": [],
   "source": [
    "x = np.array([0.23, 0.88, 0.21, 0.92, 0.49, 0.62, 0.77, 0.52, 0.30, 0.19])\n",
    "y = np.array([0.19, 0.96, 0.33, 0.80, 0.46, 0.45, 0.67, 0.32, 0.38, 0.37]).reshape(-1, 1)\n"
   ]
  },
  {
   "cell_type": "code",
   "execution_count": 26,
   "id": "67984c9e-4de9-45fb-8df8-f0b7b720934b",
   "metadata": {},
   "outputs": [],
   "source": [
    "Z = np.array([np.sin(2*x), np.log(x), np.sqrt(x)]) # dxn, d = 3, n = 10"
   ]
  },
  {
   "cell_type": "code",
   "execution_count": 28,
   "id": "f00045a3-85b2-4c72-a330-29b6f2272567",
   "metadata": {},
   "outputs": [
    {
     "data": {
      "text/plain": [
       "(array([[-1.43849129],\n",
       "        [ 0.13392281],\n",
       "        [ 2.4093005 ]]),\n",
       " 0.06724289570355886)"
      ]
     },
     "execution_count": 28,
     "metadata": {},
     "output_type": "execute_result"
    }
   ],
   "source": [
    "basisLS(Z, y)"
   ]
  },
  {
   "cell_type": "code",
   "execution_count": null,
   "id": "7114c7ff-7d56-45e9-b881-5201dd938d92",
   "metadata": {},
   "outputs": [],
   "source": []
  }
 ],
 "metadata": {
  "kernelspec": {
   "display_name": "Python 3 (ipykernel)",
   "language": "python",
   "name": "python3"
  },
  "language_info": {
   "codemirror_mode": {
    "name": "ipython",
    "version": 3
   },
   "file_extension": ".py",
   "mimetype": "text/x-python",
   "name": "python",
   "nbconvert_exporter": "python",
   "pygments_lexer": "ipython3",
   "version": "3.10.9"
  }
 },
 "nbformat": 4,
 "nbformat_minor": 5
}
