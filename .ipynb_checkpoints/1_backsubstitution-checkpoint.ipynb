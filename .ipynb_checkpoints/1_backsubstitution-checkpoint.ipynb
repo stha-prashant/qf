{
 "cells": [
  {
   "cell_type": "code",
   "execution_count": 18,
   "id": "cc8e2241-0d6e-411e-b7cc-e20d1b065a84",
   "metadata": {},
   "outputs": [],
   "source": [
    "import numpy as np\n",
    "\n",
    "def backsubstitution(A, b):\n",
    "    assert b.shape[1] == 1\n",
    "    assert len(A.shape) == 2\n",
    "    assert A.shape[1] == b.shape[0]\n",
    "    \n",
    "    #A: upper-traingular matrix\n",
    "    #b: column vector\n",
    "    \n",
    "    N = b.shape[0]\n",
    "    x = np.zeros((N, 1))\n",
    "    \n",
    "    for i in range(N-1, -1, -1):\n",
    "        sum = 0\n",
    "        for j in range(i, N):\n",
    "            sum += A[i, j]*x[j, 0]\n",
    "        # sum = A[i, :]*x[i:]\n",
    "        x[i, 0] = (b[i, 0] - sum)/A[i, i]\n",
    "          \n",
    "    return x"
   ]
  },
  {
   "cell_type": "code",
   "execution_count": 11,
   "id": "3ac855cf-d696-4586-94fa-989b09dc3e1a",
   "metadata": {},
   "outputs": [],
   "source": [
    "A = np.array([[2, 0, 1],\n",
    "              [0, 1, 2],\n",
    "              [0, 0, 3]])\n",
    "            \n",
    "b = np.array([[2], [3], [6]])"
   ]
  },
  {
   "cell_type": "code",
   "execution_count": 21,
   "id": "f9550cd7-fa06-4d80-b67f-4ab40d1036f0",
   "metadata": {},
   "outputs": [
    {
     "ename": "ValueError",
     "evalue": "setting an array element with a sequence.",
     "output_type": "error",
     "traceback": [
      "\u001b[0;31m---------------------------------------------------------------------------\u001b[0m",
      "\u001b[0;31mTypeError\u001b[0m                                 Traceback (most recent call last)",
      "\u001b[0;31mTypeError\u001b[0m: only size-1 arrays can be converted to Python scalars",
      "\nThe above exception was the direct cause of the following exception:\n",
      "\u001b[0;31mValueError\u001b[0m                                Traceback (most recent call last)",
      "Cell \u001b[0;32mIn[24], line 1\u001b[0m\n\u001b[0;32m----> 1\u001b[0m \u001b[43mbacksubstitution\u001b[49m\u001b[43m(\u001b[49m\u001b[43mA\u001b[49m\u001b[43m,\u001b[49m\u001b[43m \u001b[49m\u001b[43mb\u001b[49m\u001b[43m)\u001b[49m\n",
      "Cell \u001b[0;32mIn[22], line 19\u001b[0m, in \u001b[0;36mbacksubstitution\u001b[0;34m(A, b)\u001b[0m\n\u001b[1;32m     16\u001b[0m     \u001b[38;5;66;03m# for j in range(i, N):\u001b[39;00m\n\u001b[1;32m     17\u001b[0m     \u001b[38;5;66;03m#     sum += A[i, j]*x[j, 0]\u001b[39;00m\n\u001b[1;32m     18\u001b[0m     \u001b[38;5;28msum\u001b[39m \u001b[38;5;241m=\u001b[39m A[i, :]\u001b[38;5;241m*\u001b[39mx[i:]\n\u001b[0;32m---> 19\u001b[0m     x[i, \u001b[38;5;241m0\u001b[39m] \u001b[38;5;241m=\u001b[39m (b[i, \u001b[38;5;241m0\u001b[39m] \u001b[38;5;241m-\u001b[39m \u001b[38;5;28msum\u001b[39m)\u001b[38;5;241m/\u001b[39mA[i, i]\n\u001b[1;32m     21\u001b[0m \u001b[38;5;28;01mreturn\u001b[39;00m x\n",
      "\u001b[0;31mValueError\u001b[0m: setting an array element with a sequence."
     ]
    }
   ],
   "source": [
    "backsubstitution(A, b)"
   ]
  },
  {
   "cell_type": "code",
   "execution_count": null,
   "id": "ff53bf97-7680-4ac2-9546-2916d98d3574",
   "metadata": {},
   "outputs": [],
   "source": []
  }
 ],
 "metadata": {
  "kernelspec": {
   "display_name": "Python 3 (ipykernel)",
   "language": "python",
   "name": "python3"
  },
  "language_info": {
   "codemirror_mode": {
    "name": "ipython",
    "version": 3
   },
   "file_extension": ".py",
   "mimetype": "text/x-python",
   "name": "python",
   "nbconvert_exporter": "python",
   "pygments_lexer": "ipython3",
   "version": "3.10.9"
  }
 },
 "nbformat": 4,
 "nbformat_minor": 5
}
